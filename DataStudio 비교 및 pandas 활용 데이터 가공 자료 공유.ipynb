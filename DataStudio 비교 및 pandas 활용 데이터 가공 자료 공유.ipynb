{
 "cells": [
  {
   "cell_type": "markdown",
   "metadata": {},
   "source": [
    "### <코드 실행 전 준비 사항>\n",
    "#### - pandas, matplotlib 파이썬 라이브러리를 설치해주셔야 합니다\n",
    "#### - 코드에 사용한 csv 파일을 받아 저장 경로를 확인해주셔야 합니다"
   ]
  },
  {
   "cell_type": "code",
   "execution_count": null,
   "metadata": {},
   "outputs": [],
   "source": [
    "# 사용 데이터 : 정보소통광장 - 서울시 2020년 업무추진비 사용 내역 - 5,6,7월 \n",
    "# 코드 참고 : 데이터 분석을 위한 파이썬 철저 입문, 최은석, 위키북스\n",
    "# 코드 작성일 : 20.10.22 스마트 AI팀 김준태"
   ]
  },
  {
   "cell_type": "code",
   "execution_count": null,
   "metadata": {},
   "outputs": [],
   "source": [
    "# 데이터 파일 경로 입력\n",
    "data_file_1 = './data/202005_expense_list.csv'\n",
    "data_file_2 = './data/202006_expense_list.csv'\n",
    "data_file_3 = './data/202007_expense_list.csv'"
   ]
  },
  {
   "cell_type": "code",
   "execution_count": 3,
   "metadata": {},
   "outputs": [],
   "source": [
    "import pandas as pd # 데이터프레임 형태 변수를 다루기 위한 라이브러리\n",
    "dataframe_1 = pd.read_csv(data_file_1) # csv 파일 읽는 함수"
   ]
  },
  {
   "cell_type": "code",
   "execution_count": 4,
   "metadata": {},
   "outputs": [
    {
     "data": {
      "text/html": [
       "<div>\n",
       "<style scoped>\n",
       "    .dataframe tbody tr th:only-of-type {\n",
       "        vertical-align: middle;\n",
       "    }\n",
       "\n",
       "    .dataframe tbody tr th {\n",
       "        vertical-align: top;\n",
       "    }\n",
       "\n",
       "    .dataframe thead th {\n",
       "        text-align: right;\n",
       "    }\n",
       "</style>\n",
       "<table border=\"1\" class=\"dataframe\">\n",
       "  <thead>\n",
       "    <tr style=\"text-align: right;\">\n",
       "      <th></th>\n",
       "      <th>nid</th>\n",
       "      <th>title</th>\n",
       "      <th>url</th>\n",
       "      <th>dept_nm_lvl_1</th>\n",
       "      <th>dept_nm_lvl_2</th>\n",
       "      <th>dept_nm_lvl_3</th>\n",
       "      <th>dept_nm_lvl_4</th>\n",
       "      <th>dept_nm_lvl_5</th>\n",
       "      <th>exec_yr</th>\n",
       "      <th>exec_month</th>\n",
       "      <th>expense_budget</th>\n",
       "      <th>expense_execution</th>\n",
       "      <th>category</th>\n",
       "      <th>dept_nm_full</th>\n",
       "      <th>exec_dt</th>\n",
       "      <th>exec_loc</th>\n",
       "      <th>exec_purpose</th>\n",
       "      <th>target_nm</th>\n",
       "      <th>payment_method</th>\n",
       "      <th>exec_amount</th>\n",
       "    </tr>\n",
       "  </thead>\n",
       "  <tbody>\n",
       "    <tr>\n",
       "      <th>0</th>\n",
       "      <td>21204583</td>\n",
       "      <td>2020년 5월 소방재난본부(소방서) 소방재난본부 재난대응과 업무추진비 - 시책추진...</td>\n",
       "      <td>http://opengov.seoul.go.kr/public/21204583</td>\n",
       "      <td>소방재난본부(소방서)</td>\n",
       "      <td>소방재난본부</td>\n",
       "      <td>재난대응과</td>\n",
       "      <td>NaN</td>\n",
       "      <td>NaN</td>\n",
       "      <td>2020</td>\n",
       "      <td>5</td>\n",
       "      <td>NaN</td>\n",
       "      <td>NaN</td>\n",
       "      <td>NaN</td>\n",
       "      <td>소방재난본부 재난대응과</td>\n",
       "      <td>2020-05-28 12:13</td>\n",
       "      <td>정선할매곤드레밥 (수표로 2길)</td>\n",
       "      <td>2020년 119시민수상구조대 활성화 방안 협의 간담회</td>\n",
       "      <td>재난대응과장 외 9명</td>\n",
       "      <td>제로페이</td>\n",
       "      <td>136000</td>\n",
       "    </tr>\n",
       "    <tr>\n",
       "      <th>1</th>\n",
       "      <td>21204583</td>\n",
       "      <td>2020년 5월 소방재난본부(소방서) 소방재난본부 재난대응과 업무추진비 - 시책추진...</td>\n",
       "      <td>http://opengov.seoul.go.kr/public/21204583</td>\n",
       "      <td>소방재난본부(소방서)</td>\n",
       "      <td>소방재난본부</td>\n",
       "      <td>재난대응과</td>\n",
       "      <td>NaN</td>\n",
       "      <td>NaN</td>\n",
       "      <td>2020</td>\n",
       "      <td>5</td>\n",
       "      <td>NaN</td>\n",
       "      <td>NaN</td>\n",
       "      <td>NaN</td>\n",
       "      <td>소방재난본부 재난대응과</td>\n",
       "      <td>2020-05-28 10:48</td>\n",
       "      <td>서울시청 별관매점 (중구 덕수궁길 15)</td>\n",
       "      <td>재난대응과 운영물품 구매</td>\n",
       "      <td>재난대응과 직원</td>\n",
       "      <td>제로페이</td>\n",
       "      <td>250000</td>\n",
       "    </tr>\n",
       "    <tr>\n",
       "      <th>2</th>\n",
       "      <td>21204583</td>\n",
       "      <td>2020년 5월 소방재난본부(소방서) 소방재난본부 재난대응과 업무추진비 - 시책추진...</td>\n",
       "      <td>http://opengov.seoul.go.kr/public/21204583</td>\n",
       "      <td>소방재난본부(소방서)</td>\n",
       "      <td>소방재난본부</td>\n",
       "      <td>재난대응과</td>\n",
       "      <td>NaN</td>\n",
       "      <td>NaN</td>\n",
       "      <td>2020</td>\n",
       "      <td>5</td>\n",
       "      <td>NaN</td>\n",
       "      <td>NaN</td>\n",
       "      <td>NaN</td>\n",
       "      <td>소방재난본부 재난대응과</td>\n",
       "      <td>2020-05-22 13:15</td>\n",
       "      <td>수엔190 (중구 퇴계로 190)</td>\n",
       "      <td>포스트 코로나19 대비 하반기 의용소방대 운영방안 협의 및 간담회</td>\n",
       "      <td>재난대응과장 외 8명</td>\n",
       "      <td>카드</td>\n",
       "      <td>240000</td>\n",
       "    </tr>\n",
       "    <tr>\n",
       "      <th>3</th>\n",
       "      <td>21204583</td>\n",
       "      <td>2020년 5월 소방재난본부(소방서) 소방재난본부 재난대응과 업무추진비 - 시책추진...</td>\n",
       "      <td>http://opengov.seoul.go.kr/public/21204583</td>\n",
       "      <td>소방재난본부(소방서)</td>\n",
       "      <td>소방재난본부</td>\n",
       "      <td>재난대응과</td>\n",
       "      <td>NaN</td>\n",
       "      <td>NaN</td>\n",
       "      <td>2020</td>\n",
       "      <td>5</td>\n",
       "      <td>NaN</td>\n",
       "      <td>NaN</td>\n",
       "      <td>NaN</td>\n",
       "      <td>소방재난본부 재난대응과</td>\n",
       "      <td>2020-05-21 12:34</td>\n",
       "      <td>이비스스타일 앰베서더 (중구 삼일대로 302)</td>\n",
       "      <td>한강교량 안전시스템 통합관제 연구의뢰 관련 관계자 간담회</td>\n",
       "      <td>재난대응과장 외 11명</td>\n",
       "      <td>카드</td>\n",
       "      <td>222000</td>\n",
       "    </tr>\n",
       "    <tr>\n",
       "      <th>4</th>\n",
       "      <td>21204583</td>\n",
       "      <td>2020년 5월 소방재난본부(소방서) 소방재난본부 재난대응과 업무추진비 - 시책추진...</td>\n",
       "      <td>http://opengov.seoul.go.kr/public/21204583</td>\n",
       "      <td>소방재난본부(소방서)</td>\n",
       "      <td>소방재난본부</td>\n",
       "      <td>재난대응과</td>\n",
       "      <td>NaN</td>\n",
       "      <td>NaN</td>\n",
       "      <td>2020</td>\n",
       "      <td>5</td>\n",
       "      <td>NaN</td>\n",
       "      <td>NaN</td>\n",
       "      <td>NaN</td>\n",
       "      <td>소방재난본부 재난대응과</td>\n",
       "      <td>2020-05-20 16:41</td>\n",
       "      <td>서울시청 별관매점 (중구 덕수궁길 15)</td>\n",
       "      <td>재난대응과 운영물품 구매</td>\n",
       "      <td>재난대응과 직원</td>\n",
       "      <td>제로페이</td>\n",
       "      <td>250000</td>\n",
       "    </tr>\n",
       "  </tbody>\n",
       "</table>\n",
       "</div>"
      ],
      "text/plain": [
       "        nid                                              title  \\\n",
       "0  21204583  2020년 5월 소방재난본부(소방서) 소방재난본부 재난대응과 업무추진비 - 시책추진...   \n",
       "1  21204583  2020년 5월 소방재난본부(소방서) 소방재난본부 재난대응과 업무추진비 - 시책추진...   \n",
       "2  21204583  2020년 5월 소방재난본부(소방서) 소방재난본부 재난대응과 업무추진비 - 시책추진...   \n",
       "3  21204583  2020년 5월 소방재난본부(소방서) 소방재난본부 재난대응과 업무추진비 - 시책추진...   \n",
       "4  21204583  2020년 5월 소방재난본부(소방서) 소방재난본부 재난대응과 업무추진비 - 시책추진...   \n",
       "\n",
       "                                          url dept_nm_lvl_1 dept_nm_lvl_2  \\\n",
       "0  http://opengov.seoul.go.kr/public/21204583   소방재난본부(소방서)        소방재난본부   \n",
       "1  http://opengov.seoul.go.kr/public/21204583   소방재난본부(소방서)        소방재난본부   \n",
       "2  http://opengov.seoul.go.kr/public/21204583   소방재난본부(소방서)        소방재난본부   \n",
       "3  http://opengov.seoul.go.kr/public/21204583   소방재난본부(소방서)        소방재난본부   \n",
       "4  http://opengov.seoul.go.kr/public/21204583   소방재난본부(소방서)        소방재난본부   \n",
       "\n",
       "  dept_nm_lvl_3 dept_nm_lvl_4 dept_nm_lvl_5  exec_yr  exec_month  \\\n",
       "0         재난대응과           NaN           NaN     2020           5   \n",
       "1         재난대응과           NaN           NaN     2020           5   \n",
       "2         재난대응과           NaN           NaN     2020           5   \n",
       "3         재난대응과           NaN           NaN     2020           5   \n",
       "4         재난대응과           NaN           NaN     2020           5   \n",
       "\n",
       "   expense_budget  expense_execution category  dept_nm_full           exec_dt  \\\n",
       "0             NaN                NaN      NaN  소방재난본부 재난대응과  2020-05-28 12:13   \n",
       "1             NaN                NaN      NaN  소방재난본부 재난대응과  2020-05-28 10:48   \n",
       "2             NaN                NaN      NaN  소방재난본부 재난대응과  2020-05-22 13:15   \n",
       "3             NaN                NaN      NaN  소방재난본부 재난대응과  2020-05-21 12:34   \n",
       "4             NaN                NaN      NaN  소방재난본부 재난대응과  2020-05-20 16:41   \n",
       "\n",
       "                    exec_loc                          exec_purpose  \\\n",
       "0          정선할매곤드레밥 (수표로 2길)        2020년 119시민수상구조대 활성화 방안 협의 간담회   \n",
       "1     서울시청 별관매점 (중구 덕수궁길 15)                         재난대응과 운영물품 구매   \n",
       "2         수엔190 (중구 퇴계로 190)  포스트 코로나19 대비 하반기 의용소방대 운영방안 협의 및 간담회   \n",
       "3  이비스스타일 앰베서더 (중구 삼일대로 302)       한강교량 안전시스템 통합관제 연구의뢰 관련 관계자 간담회   \n",
       "4     서울시청 별관매점 (중구 덕수궁길 15)                         재난대응과 운영물품 구매   \n",
       "\n",
       "      target_nm payment_method  exec_amount  \n",
       "0   재난대응과장 외 9명           제로페이       136000  \n",
       "1      재난대응과 직원           제로페이       250000  \n",
       "2   재난대응과장 외 8명             카드       240000  \n",
       "3  재난대응과장 외 11명             카드       222000  \n",
       "4      재난대응과 직원           제로페이       250000  "
      ]
     },
     "execution_count": 4,
     "metadata": {},
     "output_type": "execute_result"
    }
   ],
   "source": [
    "dataframe_1.head(5) # 상위 5개 값 추출"
   ]
  },
  {
   "cell_type": "code",
   "execution_count": 5,
   "metadata": {},
   "outputs": [
    {
     "name": "stdout",
     "output_type": "stream",
     "text": [
      "<class 'pandas.core.frame.DataFrame'>\n",
      "RangeIndex: 5593 entries, 0 to 5592\n",
      "Data columns (total 20 columns):\n",
      " #   Column             Non-Null Count  Dtype  \n",
      "---  ------             --------------  -----  \n",
      " 0   nid                5593 non-null   int64  \n",
      " 1   title              5593 non-null   object \n",
      " 2   url                5593 non-null   object \n",
      " 3   dept_nm_lvl_1      5593 non-null   object \n",
      " 4   dept_nm_lvl_2      5593 non-null   object \n",
      " 5   dept_nm_lvl_3      4258 non-null   object \n",
      " 6   dept_nm_lvl_4      1337 non-null   object \n",
      " 7   dept_nm_lvl_5      100 non-null    object \n",
      " 8   exec_yr            5593 non-null   int64  \n",
      " 9   exec_month         5593 non-null   int64  \n",
      " 10  expense_budget     125 non-null    float64\n",
      " 11  expense_execution  84 non-null     float64\n",
      " 12  category           171 non-null    object \n",
      " 13  dept_nm_full       5593 non-null   object \n",
      " 14  exec_dt            5593 non-null   object \n",
      " 15  exec_loc           5529 non-null   object \n",
      " 16  exec_purpose       5593 non-null   object \n",
      " 17  target_nm          5540 non-null   object \n",
      " 18  payment_method     5593 non-null   object \n",
      " 19  exec_amount        5593 non-null   int64  \n",
      "dtypes: float64(2), int64(4), object(14)\n",
      "memory usage: 874.0+ KB\n"
     ]
    }
   ],
   "source": [
    "dataframe_1.info() # 데이터프레임 정보에 대한 요약"
   ]
  },
  {
   "cell_type": "code",
   "execution_count": 6,
   "metadata": {},
   "outputs": [
    {
     "data": {
      "text/html": [
       "<div>\n",
       "<style scoped>\n",
       "    .dataframe tbody tr th:only-of-type {\n",
       "        vertical-align: middle;\n",
       "    }\n",
       "\n",
       "    .dataframe tbody tr th {\n",
       "        vertical-align: top;\n",
       "    }\n",
       "\n",
       "    .dataframe thead th {\n",
       "        text-align: right;\n",
       "    }\n",
       "</style>\n",
       "<table border=\"1\" class=\"dataframe\">\n",
       "  <thead>\n",
       "    <tr style=\"text-align: right;\">\n",
       "      <th></th>\n",
       "      <th>nid</th>\n",
       "      <th>exec_yr</th>\n",
       "      <th>exec_month</th>\n",
       "      <th>expense_budget</th>\n",
       "      <th>expense_execution</th>\n",
       "      <th>exec_amount</th>\n",
       "    </tr>\n",
       "  </thead>\n",
       "  <tbody>\n",
       "    <tr>\n",
       "      <th>count</th>\n",
       "      <td>5.593000e+03</td>\n",
       "      <td>5593.0</td>\n",
       "      <td>5593.0</td>\n",
       "      <td>1.250000e+02</td>\n",
       "      <td>8.400000e+01</td>\n",
       "      <td>5.593000e+03</td>\n",
       "    </tr>\n",
       "    <tr>\n",
       "      <th>mean</th>\n",
       "      <td>2.051966e+07</td>\n",
       "      <td>2020.0</td>\n",
       "      <td>5.0</td>\n",
       "      <td>1.576529e+07</td>\n",
       "      <td>3.960007e+06</td>\n",
       "      <td>1.382094e+05</td>\n",
       "    </tr>\n",
       "    <tr>\n",
       "      <th>std</th>\n",
       "      <td>7.743852e+04</td>\n",
       "      <td>0.0</td>\n",
       "      <td>0.0</td>\n",
       "      <td>1.079163e+07</td>\n",
       "      <td>1.943564e+06</td>\n",
       "      <td>1.389283e+05</td>\n",
       "    </tr>\n",
       "    <tr>\n",
       "      <th>min</th>\n",
       "      <td>2.038984e+07</td>\n",
       "      <td>2020.0</td>\n",
       "      <td>5.0</td>\n",
       "      <td>1.750000e+05</td>\n",
       "      <td>1.750000e+05</td>\n",
       "      <td>0.000000e+00</td>\n",
       "    </tr>\n",
       "    <tr>\n",
       "      <th>25%</th>\n",
       "      <td>2.047925e+07</td>\n",
       "      <td>2020.0</td>\n",
       "      <td>5.0</td>\n",
       "      <td>2.230160e+06</td>\n",
       "      <td>1.410400e+06</td>\n",
       "      <td>5.000000e+04</td>\n",
       "    </tr>\n",
       "    <tr>\n",
       "      <th>50%</th>\n",
       "      <td>2.051847e+07</td>\n",
       "      <td>2020.0</td>\n",
       "      <td>5.0</td>\n",
       "      <td>1.720000e+07</td>\n",
       "      <td>4.920900e+06</td>\n",
       "      <td>9.500000e+04</td>\n",
       "    </tr>\n",
       "    <tr>\n",
       "      <th>75%</th>\n",
       "      <td>2.053530e+07</td>\n",
       "      <td>2020.0</td>\n",
       "      <td>5.0</td>\n",
       "      <td>2.576000e+07</td>\n",
       "      <td>5.495220e+06</td>\n",
       "      <td>1.740000e+05</td>\n",
       "    </tr>\n",
       "    <tr>\n",
       "      <th>max</th>\n",
       "      <td>2.120458e+07</td>\n",
       "      <td>2020.0</td>\n",
       "      <td>5.0</td>\n",
       "      <td>2.900000e+07</td>\n",
       "      <td>6.072840e+06</td>\n",
       "      <td>2.258000e+06</td>\n",
       "    </tr>\n",
       "  </tbody>\n",
       "</table>\n",
       "</div>"
      ],
      "text/plain": [
       "                nid  exec_yr  exec_month  expense_budget  expense_execution  \\\n",
       "count  5.593000e+03   5593.0      5593.0    1.250000e+02       8.400000e+01   \n",
       "mean   2.051966e+07   2020.0         5.0    1.576529e+07       3.960007e+06   \n",
       "std    7.743852e+04      0.0         0.0    1.079163e+07       1.943564e+06   \n",
       "min    2.038984e+07   2020.0         5.0    1.750000e+05       1.750000e+05   \n",
       "25%    2.047925e+07   2020.0         5.0    2.230160e+06       1.410400e+06   \n",
       "50%    2.051847e+07   2020.0         5.0    1.720000e+07       4.920900e+06   \n",
       "75%    2.053530e+07   2020.0         5.0    2.576000e+07       5.495220e+06   \n",
       "max    2.120458e+07   2020.0         5.0    2.900000e+07       6.072840e+06   \n",
       "\n",
       "        exec_amount  \n",
       "count  5.593000e+03  \n",
       "mean   1.382094e+05  \n",
       "std    1.389283e+05  \n",
       "min    0.000000e+00  \n",
       "25%    5.000000e+04  \n",
       "50%    9.500000e+04  \n",
       "75%    1.740000e+05  \n",
       "max    2.258000e+06  "
      ]
     },
     "execution_count": 6,
     "metadata": {},
     "output_type": "execute_result"
    }
   ],
   "source": [
    "dataframe_1.describe() #describe() 함수를 사용하여 숫자형 데이터 타입의 컬럼에 대한 기초 통계량을 볼 수도 있음"
   ]
  },
  {
   "cell_type": "code",
   "execution_count": 7,
   "metadata": {},
   "outputs": [
    {
     "data": {
      "text/plain": [
       "nid                     0\n",
       "title                   0\n",
       "url                     0\n",
       "dept_nm_lvl_1           0\n",
       "dept_nm_lvl_2           0\n",
       "dept_nm_lvl_3        1335\n",
       "dept_nm_lvl_4        4256\n",
       "dept_nm_lvl_5        5493\n",
       "exec_yr                 0\n",
       "exec_month              0\n",
       "expense_budget       5468\n",
       "expense_execution    5509\n",
       "category             5422\n",
       "dept_nm_full            0\n",
       "exec_dt                 0\n",
       "exec_loc               64\n",
       "exec_purpose            0\n",
       "target_nm              53\n",
       "payment_method          0\n",
       "exec_amount             0\n",
       "dtype: int64"
      ]
     },
     "execution_count": 7,
     "metadata": {},
     "output_type": "execute_result"
    }
   ],
   "source": [
    "dataframe_1.isna().sum() # null 값 찾아서 개수 세어 합계 계산"
   ]
  },
  {
   "cell_type": "code",
   "execution_count": 8,
   "metadata": {},
   "outputs": [],
   "source": [
    "# csv 파일 경로를 받아 데이터프레임 형태로 변환하는 함수\n",
    "def DataframeToDf(file_path) :\n",
    "    df = pd.read_csv(file_path) # 일반적으로 원본 데이터를 훼손하지 않기 위해 copy하여 사용\n",
    "                                # dataframe = pd.read_csv(file_path) / dataframe 변수에 원본 데이터 저장\n",
    "                                # df = dataframe.copy() / df 변수에 copy한 후 df 변수에 있는 데이터 조작\n",
    "    # null 값을 많이 포함하는 값과 분석에 필요 없다고 생각된 값을 가진 컬럼 drop 시켜줌\n",
    "    df = df.drop(columns=['title','url','dept_nm_lvl_5','expense_budget','expense_execution','category'])\n",
    "    return df"
   ]
  },
  {
   "cell_type": "code",
   "execution_count": 9,
   "metadata": {},
   "outputs": [],
   "source": [
    "# 5,6,7월 데이터 각각 df1,df2,df3 변수에 저장\n",
    "df1 = DataframeToDf(data_file_1)\n",
    "df2 = DataframeToDf(data_file_2)\n",
    "df3 = DataframeToDf(data_file_3)"
   ]
  },
  {
   "cell_type": "code",
   "execution_count": 10,
   "metadata": {},
   "outputs": [
    {
     "name": "stdout",
     "output_type": "stream",
     "text": [
      "<class 'pandas.core.frame.DataFrame'>\n",
      "Int64Index: 18375 entries, 0 to 6240\n",
      "Data columns (total 14 columns):\n",
      " #   Column          Non-Null Count  Dtype \n",
      "---  ------          --------------  ----- \n",
      " 0   nid             18375 non-null  int64 \n",
      " 1   dept_nm_lvl_1   18375 non-null  object\n",
      " 2   dept_nm_lvl_2   18375 non-null  object\n",
      " 3   dept_nm_lvl_3   14294 non-null  object\n",
      " 4   dept_nm_lvl_4   4661 non-null   object\n",
      " 5   exec_yr         18375 non-null  int64 \n",
      " 6   exec_month      18375 non-null  int64 \n",
      " 7   dept_nm_full    18375 non-null  object\n",
      " 8   exec_dt         18375 non-null  object\n",
      " 9   exec_loc        18225 non-null  object\n",
      " 10  exec_purpose    18375 non-null  object\n",
      " 11  target_nm       18248 non-null  object\n",
      " 12  payment_method  18375 non-null  object\n",
      " 13  exec_amount     18375 non-null  int64 \n",
      "dtypes: int64(4), object(10)\n",
      "memory usage: 2.1+ MB\n"
     ]
    }
   ],
   "source": [
    "# append 활용 5,6,7월 데이터 병합\n",
    "df_expense = df1.append(df2)\n",
    "df_expense = df_expense.append(df3)\n",
    "df_expense.info()"
   ]
  },
  {
   "cell_type": "code",
   "execution_count": 11,
   "metadata": {},
   "outputs": [
    {
     "data": {
      "text/html": [
       "<div>\n",
       "<style scoped>\n",
       "    .dataframe tbody tr th:only-of-type {\n",
       "        vertical-align: middle;\n",
       "    }\n",
       "\n",
       "    .dataframe tbody tr th {\n",
       "        vertical-align: top;\n",
       "    }\n",
       "\n",
       "    .dataframe thead tr th {\n",
       "        text-align: left;\n",
       "    }\n",
       "\n",
       "    .dataframe thead tr:last-of-type th {\n",
       "        text-align: right;\n",
       "    }\n",
       "</style>\n",
       "<table border=\"1\" class=\"dataframe\">\n",
       "  <thead>\n",
       "    <tr>\n",
       "      <th></th>\n",
       "      <th></th>\n",
       "      <th colspan=\"3\" halign=\"left\">exec_amount</th>\n",
       "    </tr>\n",
       "    <tr>\n",
       "      <th></th>\n",
       "      <th>payment_method</th>\n",
       "      <th>제로페이</th>\n",
       "      <th>카드</th>\n",
       "      <th>현금</th>\n",
       "    </tr>\n",
       "    <tr>\n",
       "      <th>exec_month</th>\n",
       "      <th>dept_nm_lvl_1</th>\n",
       "      <th></th>\n",
       "      <th></th>\n",
       "      <th></th>\n",
       "    </tr>\n",
       "  </thead>\n",
       "  <tbody>\n",
       "    <tr>\n",
       "      <th rowspan=\"4\" valign=\"top\">5</th>\n",
       "      <th>사업소</th>\n",
       "      <td>77445130</td>\n",
       "      <td>77740265</td>\n",
       "      <td>5491740</td>\n",
       "    </tr>\n",
       "    <tr>\n",
       "      <th>서울시본청</th>\n",
       "      <td>349247365</td>\n",
       "      <td>70216950</td>\n",
       "      <td>5200420</td>\n",
       "    </tr>\n",
       "    <tr>\n",
       "      <th>소방재난본부(소방서)</th>\n",
       "      <td>119510140</td>\n",
       "      <td>23364500</td>\n",
       "      <td>3579260</td>\n",
       "    </tr>\n",
       "    <tr>\n",
       "      <th>의회사무처</th>\n",
       "      <td>8630700</td>\n",
       "      <td>29419320</td>\n",
       "      <td>3159500</td>\n",
       "    </tr>\n",
       "    <tr>\n",
       "      <th rowspan=\"4\" valign=\"top\">6</th>\n",
       "      <th>사업소</th>\n",
       "      <td>93052500</td>\n",
       "      <td>98605450</td>\n",
       "      <td>5329280</td>\n",
       "    </tr>\n",
       "    <tr>\n",
       "      <th>서울시본청</th>\n",
       "      <td>428803450</td>\n",
       "      <td>89109380</td>\n",
       "      <td>3327260</td>\n",
       "    </tr>\n",
       "    <tr>\n",
       "      <th>소방재난본부(소방서)</th>\n",
       "      <td>130977532</td>\n",
       "      <td>19182530</td>\n",
       "      <td>3607200</td>\n",
       "    </tr>\n",
       "    <tr>\n",
       "      <th>의회사무처</th>\n",
       "      <td>14543060</td>\n",
       "      <td>31419500</td>\n",
       "      <td>180000</td>\n",
       "    </tr>\n",
       "    <tr>\n",
       "      <th rowspan=\"4\" valign=\"top\">7</th>\n",
       "      <th>사업소</th>\n",
       "      <td>90943790</td>\n",
       "      <td>79719035</td>\n",
       "      <td>5219180</td>\n",
       "    </tr>\n",
       "    <tr>\n",
       "      <th>서울시본청</th>\n",
       "      <td>363973690</td>\n",
       "      <td>66074910</td>\n",
       "      <td>2524800</td>\n",
       "    </tr>\n",
       "    <tr>\n",
       "      <th>소방재난본부(소방서)</th>\n",
       "      <td>118006900</td>\n",
       "      <td>22228090</td>\n",
       "      <td>1857020</td>\n",
       "    </tr>\n",
       "    <tr>\n",
       "      <th>의회사무처</th>\n",
       "      <td>10115010</td>\n",
       "      <td>30450040</td>\n",
       "      <td>150000</td>\n",
       "    </tr>\n",
       "  </tbody>\n",
       "</table>\n",
       "</div>"
      ],
      "text/plain": [
       "                         exec_amount                   \n",
       "payment_method                  제로페이        카드       현금\n",
       "exec_month dept_nm_lvl_1                               \n",
       "5          사업소              77445130  77740265  5491740\n",
       "           서울시본청           349247365  70216950  5200420\n",
       "           소방재난본부(소방서)     119510140  23364500  3579260\n",
       "           의회사무처             8630700  29419320  3159500\n",
       "6          사업소              93052500  98605450  5329280\n",
       "           서울시본청           428803450  89109380  3327260\n",
       "           소방재난본부(소방서)     130977532  19182530  3607200\n",
       "           의회사무처            14543060  31419500   180000\n",
       "7          사업소              90943790  79719035  5219180\n",
       "           서울시본청           363973690  66074910  2524800\n",
       "           소방재난본부(소방서)     118006900  22228090  1857020\n",
       "           의회사무처            10115010  30450040   150000"
      ]
     },
     "execution_count": 11,
     "metadata": {},
     "output_type": "execute_result"
    }
   ],
   "source": [
    "# pivot table\n",
    "expense_pivot = pd.pivot_table(df_expense,values=['exec_amount'], aggfunc='sum', # table 값인 exec_amount값의 합계 표시, default = 평균\n",
    "                               #index=['dept_nm_lvl_1','exec_month'],columns=['payment_method']) # 인덱스 순서에 따라 테이블 모양이 변함\n",
    "                               index=['exec_month','dept_nm_lvl_1'],columns=['payment_method'])\n",
    "expense_pivot"
   ]
  },
  {
   "cell_type": "code",
   "execution_count": 12,
   "metadata": {},
   "outputs": [],
   "source": [
    "#그래프 한글 폰트 깨짐 방지를 위한 코드입니다\n",
    "import matplotlib\n",
    "import matplotlib.font_manager as fm\n",
    "fm.get_fontconfig_fonts()\n",
    "font_location = 'C:/Windows/Fonts/gulim.ttc' # 한글 폰트 파일 위치 확인하여 입력해줍니다.\n",
    "font_name = fm.FontProperties(fname=font_location).get_name()\n",
    "matplotlib.rc('font', family=font_name)\n",
    "#코드 참고 : https://m.blog.naver.com/PostView.nhn?blogId=wideeyed&logNo=221225208497&proxyReferer=https:%2F%2Fwww.google.com%2F"
   ]
  },
  {
   "cell_type": "code",
   "execution_count": 13,
   "metadata": {},
   "outputs": [
    {
     "data": {
      "image/png": "[encoded data removed]",
      "text/plain": [
       "<Figure size 432x288 with 1 Axes>"
      ]
     },
     "metadata": {
      "needs_background": "light"
     },
     "output_type": "display_data"
    }
   ],
   "source": [
    "(expense_pivot/100000000).plot.bar() # 수치가 억단위로 표시되도록 나눈 뒤에 막대그래프 그려줌\n",
    "import matplotlib.pyplot as plt # 시각화 라이브러리 / ggplot, seaborn 라이브러리도 자주 사용됨\n",
    "\n",
    "# 그래프에 라벨 이름, 제목, 범례 이름 표시\n",
    "plt.ylabel(\"금액(억원)\")\n",
    "plt.xlabel(\"부서\")\n",
    "plt.xticks(rotation = 30, ha = 'right') # 'right'방향으로 '기울기' = '30도'\n",
    "plt.title(\"부서별 금액\")\n",
    "plt.legend( [\"제로페이\",\"카드\",\"현금\"] ) # 범례 이름 설정\n",
    "plt.show()"
   ]
  },
  {
   "cell_type": "code",
   "execution_count": 14,
   "metadata": {},
   "outputs": [
    {
     "data": {
      "text/plain": [
       "0       2020-05-28 12:13\n",
       "1       2020-05-28 10:48\n",
       "2       2020-05-22 13:15\n",
       "3       2020-05-21 12:34\n",
       "4       2020-05-20 16:41\n",
       "              ...       \n",
       "6236    2020-07-08 11:57\n",
       "6237    2020-07-07 12:58\n",
       "6238    2020-07-07 09:20\n",
       "6239    2020-07-07 09:19\n",
       "6240    2020-07-02 11:49\n",
       "Name: exec_dt, Length: 18375, dtype: object"
      ]
     },
     "execution_count": 14,
     "metadata": {},
     "output_type": "execute_result"
    }
   ],
   "source": [
    "df_expense['exec_dt'] # 기존 데이터프레임의 추진비 사용 시간 열 조회"
   ]
  },
  {
   "cell_type": "code",
   "execution_count": 15,
   "metadata": {},
   "outputs": [
    {
     "data": {
      "text/plain": [
       "0      2020-05-28 12:13:00\n",
       "1      2020-05-28 10:48:00\n",
       "2      2020-05-22 13:15:00\n",
       "3      2020-05-21 12:34:00\n",
       "4      2020-05-20 16:41:00\n",
       "               ...        \n",
       "6236   2020-07-08 11:57:00\n",
       "6237   2020-07-07 12:58:00\n",
       "6238   2020-07-07 09:20:00\n",
       "6239   2020-07-07 09:19:00\n",
       "6240   2020-07-02 11:49:00\n",
       "Name: exec_dt, Length: 18375, dtype: datetime64[ns]"
      ]
     },
     "execution_count": 15,
     "metadata": {},
     "output_type": "execute_result"
    }
   ],
   "source": [
    "# 기존 데이터 프레임의 object 타입 데이터를 datetime 형태로 변환\n",
    "expense_datetime = pd.to_datetime(df_expense['exec_dt'])\n",
    "expense_datetime"
   ]
  },
  {
   "cell_type": "code",
   "execution_count": 16,
   "metadata": {},
   "outputs": [
    {
     "data": {
      "text/plain": [
       "0       12\n",
       "1       10\n",
       "2       13\n",
       "3       12\n",
       "4       16\n",
       "        ..\n",
       "6236    11\n",
       "6237    12\n",
       "6238     9\n",
       "6239     9\n",
       "6240    11\n",
       "Name: 집행시간, Length: 18375, dtype: int64"
      ]
     },
     "execution_count": 16,
     "metadata": {},
     "output_type": "execute_result"
    }
   ],
   "source": [
    "# datetime형 데이터에서 시간만 추출하여 데이터 프레임에 열 추가\n",
    "df_expense['집행시간'] = expense_datetime.dt.hour \n",
    "df_expense['집행시간']"
   ]
  },
  {
   "cell_type": "code",
   "execution_count": 17,
   "metadata": {},
   "outputs": [
    {
     "name": "stdout",
     "output_type": "stream",
     "text": [
      "<class 'pandas.core.frame.DataFrame'>\n",
      "Int64Index: 18375 entries, 0 to 6240\n",
      "Data columns (total 15 columns):\n",
      " #   Column          Non-Null Count  Dtype         \n",
      "---  ------          --------------  -----         \n",
      " 0   nid             18375 non-null  int64         \n",
      " 1   dept_nm_lvl_1   18375 non-null  object        \n",
      " 2   dept_nm_lvl_2   18375 non-null  object        \n",
      " 3   dept_nm_lvl_3   14294 non-null  object        \n",
      " 4   dept_nm_lvl_4   4661 non-null   object        \n",
      " 5   exec_yr         18375 non-null  int64         \n",
      " 6   exec_month      18375 non-null  int64         \n",
      " 7   dept_nm_full    18375 non-null  object        \n",
      " 8   exec_dt         18375 non-null  datetime64[ns]\n",
      " 9   exec_loc        18225 non-null  object        \n",
      " 10  exec_purpose    18375 non-null  object        \n",
      " 11  target_nm       18248 non-null  object        \n",
      " 12  payment_method  18375 non-null  object        \n",
      " 13  exec_amount     18375 non-null  int64         \n",
      " 14  집행시간            18375 non-null  int64         \n",
      "dtypes: datetime64[ns](1), int64(5), object(9)\n",
      "memory usage: 2.2+ MB\n"
     ]
    }
   ],
   "source": [
    "df_expense['exec_dt'] = expense_datetime # datetime으로 변환했던 데이터를 기존 컬럼에 저장\n",
    "df_expense.info()\n",
    "# exec_dt 컬럼의 타입이 datetime형으로 변경한 데이터로 대체됨\n",
    "# 14번째 컬럼에 '집행시간'이 추가됨"
   ]
  },
  {
   "cell_type": "code",
   "execution_count": 18,
   "metadata": {},
   "outputs": [
    {
     "data": {
      "text/plain": [
       "12    7972\n",
       "13    1715\n",
       "20    1561\n",
       "11     969\n",
       "19     948\n",
       "21     946\n",
       "14     897\n",
       "15     709\n",
       "10     552\n",
       "16     466\n",
       "9      418\n",
       "18     389\n",
       "0      292\n",
       "17     265\n",
       "22     179\n",
       "8       75\n",
       "7       17\n",
       "6        2\n",
       "23       2\n",
       "2        1\n",
       "Name: 집행시간, dtype: int64"
      ]
     },
     "execution_count": 18,
     "metadata": {},
     "output_type": "execute_result"
    }
   ],
   "source": [
    "expense_time_count = df_expense['집행시간'].value_counts() # 집행시간 별 값 개수 카운트\n",
    "expense_time_count"
   ]
  },
  {
   "cell_type": "code",
   "execution_count": 19,
   "metadata": {},
   "outputs": [
    {
     "data": {
      "text/plain": [
       "8       75.0\n",
       "9      418.0\n",
       "10     552.0\n",
       "11     969.0\n",
       "12    7972.0\n",
       "13    1715.0\n",
       "14     897.0\n",
       "15     709.0\n",
       "16     466.0\n",
       "17     265.0\n",
       "18     389.0\n",
       "19     948.0\n",
       "20    1561.0\n",
       "21     946.0\n",
       "22     179.0\n",
       "23       2.0\n",
       "0      292.0\n",
       "1        NaN\n",
       "2        1.0\n",
       "3        NaN\n",
       "4        NaN\n",
       "5        NaN\n",
       "6        2.0\n",
       "7       17.0\n",
       "Name: 집행시간, dtype: float64"
      ]
     },
     "execution_count": 19,
     "metadata": {},
     "output_type": "execute_result"
    }
   ],
   "source": [
    "hour = [(k+8)%24 for k in range(24)] # 오전 08시 기준으로 인덱스 생성\n",
    "expense_time_count = expense_time_count.reindex(index = hour) # 새로 생성한 인덱스 기준으로 reindex\n",
    "expense_time_count"
   ]
  },
  {
   "cell_type": "code",
   "execution_count": 20,
   "metadata": {},
   "outputs": [
    {
     "data": {
      "image/png": "[encoded data removed]",
      "text/plain": [
       "<Figure size 432x288 with 1 Axes>"
      ]
     },
     "metadata": {
      "needs_background": "light"
     },
     "output_type": "display_data"
    }
   ],
   "source": [
    "expense_time_count.plot.bar()\n",
    "plt.title(\"시간별 업무 추진비 집행횟수\")\n",
    "plt.xlabel(\"집행시간\")\n",
    "plt.ylabel(\"집행횟수\")\n",
    "plt.show()"
   ]
  },
  {
   "cell_type": "markdown",
   "metadata": {},
   "source": [
    "### <실습 포인트>\n",
    "#### - Data Studio 내 차트들을 파이썬에서도 구현 가능\n",
    "#### - pandas 데이터프레임 형태의 변수를 활용하여 데이터를 가공이 가능\n",
    "### <보완점>\n",
    "#### - pymssql 라이브러리를 활용하여 mssql DB와 연동되는 코드로 발전시켜야 함\n",
    "#### - 실시간으로 변동되는 데이터에도 적용할 수 있도록 발전시켜야 함"
   ]
  },
  {
   "cell_type": "markdown",
   "metadata": {},
   "source": [
    "### <구현하지 못 한 부분>\n",
    "#### - Data Studio 내 지역차트 구현\n",
    "#### - 카카오맵 API 등을 활용하여 추진비 사용처 및 금액을 표시하여 분석할 수 있도록 해보는 것도 좋을 것 같습니다"
   ]
  },
  {
   "cell_type": "code",
   "execution_count": 21,
   "metadata": {},
   "outputs": [
    {
     "data": {
      "text/plain": [
       "0             정선할매곤드레밥 (수표로 2길)\n",
       "1        서울시청 별관매점 (중구 덕수궁길 15)\n",
       "2            수엔190 (중구 퇴계로 190)\n",
       "3     이비스스타일 앰베서더 (중구 삼일대로 302)\n",
       "4        서울시청 별관매점 (중구 덕수궁길 15)\n",
       "5        서울시청 별관매점 (중구 덕수궁길 15)\n",
       "6               황소집 (중구 충무로길 2)\n",
       "7       애술로우커피(서울시 중구 남대문로9길10)\n",
       "8    원당뼈다귀 해장국(서울시 중구 서소문로 129)\n",
       "9        남산골 생고기 (중구 퇴계로180-14)\n",
       "Name: exec_loc, dtype: object"
      ]
     },
     "execution_count": 21,
     "metadata": {},
     "output_type": "execute_result"
    }
   ],
   "source": [
    "# 카카오맵 API 활용 지도 표시 사용 참고 : http://blog.daum.net/geoscience/1436 \n",
    "df_expense['exec_loc'].head(10)"
   ]
  },
  {
   "cell_type": "code",
   "execution_count": 22,
   "metadata": {},
   "outputs": [],
   "source": [
    "# 코드 출처 : https://oopaque.tistory.com/120\n",
    "import requests\n",
    "\n",
    "def getLatLng(address):\n",
    "    result = \"\"\n",
    "    url = 'https://dapi.kakao.com/v2/local/search/address.json?query=' + address\n",
    "    rest_api_key = '35b919f1c5a6b7330cb41f11a358a068'\n",
    "    header = {'Authorization': 'KakaoAK ' + rest_api_key}\n",
    " \n",
    "    r = requests.get(url, headers=header)\n",
    " \n",
    "    if r.status_code == 200:\n",
    "        result_address = r.json()[\"documents\"][0][\"address\"]\n",
    "        \n",
    "        result = result_address[\"y\"], result_address[\"x\"]\n",
    "    else:\n",
    "        result = \"ERROR[\" + str(r.status_code) + \"]\"\n",
    "    \n",
    "    return result\n",
    "\n",
    "def getKakaoMapHtml(address_latlng):\n",
    "    javascript_key = \"92233999dbc0b5d26591a2422bc79a52\"\n",
    " \n",
    "    result = \"\"\n",
    "    result = result + \"<div id='map' style='width:300px;height:200px;display:inline-block;'></div>\" + \"\\n\"\n",
    "    result = result + \"<script type='text/javascript' src='//dapi.kakao.com/v2/maps/sdk.js?appkey=\" + javascript_key + \"'></script>\" + \"\\n\"\n",
    "    result = result + \"<script>\" + \"\\n\"\n",
    "    result = result + \"    var container = document.getElementById('map'); \" + \"\\n\"\n",
    "    result = result + \"    var options = {\" + \"\\n\"\n",
    "    result = result + \"           center: new kakao.maps.LatLng(\" + address_latlng[0] + \", \" + address_latlng[1] + \"),\" + \"\\n\"\n",
    "    result = result + \"           level: 3\" + \"\\n\"\n",
    "    result = result + \"    }; \" + \"\\n\"\n",
    "    result = result + \"    var map = new kakao.maps.Map(container, options); \" + \"\\n\"\n",
    "    \n",
    "    # 검색한 좌표의 마커 생성을 위해 추가\n",
    "    result = result + \"    var markerPosition  = new kakao.maps.LatLng(\" + address_latlng[0] + \", \" + address_latlng[1] + \");  \" + \"\\n\"\n",
    "    result = result + \"    var marker = new kakao.maps.Marker({position: markerPosition}); \" + \"\\n\"\n",
    "    result = result + \"    marker.setMap(map); \" + \"\\n\"\n",
    " \n",
    "    result = result + \"</script>\" + \"\\n\"\n",
    "    \n",
    "    return result"
   ]
  },
  {
   "cell_type": "code",
   "execution_count": 23,
   "metadata": {},
   "outputs": [],
   "source": [
    "# 코드 작성일 20.10.22 (스마트 AI팀 / 김준태)"
   ]
  }
 ],
 "metadata": {
  "kernelspec": {
   "display_name": "Python 3",
   "language": "python",
   "name": "python3"
  },
  "language_info": {
   "codemirror_mode": {
    "name": "ipython",
    "version": 3
   },
   "file_extension": ".py",
   "mimetype": "text/x-python",
   "name": "python",
   "nbconvert_exporter": "python",
   "pygments_lexer": "ipython3",
   "version": "3.7.4"
  }
 },
 "nbformat": 4,
 "nbformat_minor": 4
}
